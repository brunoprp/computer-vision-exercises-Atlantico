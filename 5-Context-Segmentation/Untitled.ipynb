{
 "cells": [
  {
   "cell_type": "code",
   "execution_count": 1,
   "metadata": {},
   "outputs": [
    {
     "name": "stderr",
     "output_type": "stream",
     "text": [
      "/home/bruno/anaconda3/lib/python3.7/site-packages/tensorflow/python/framework/dtypes.py:516: FutureWarning: Passing (type, 1) or '1type' as a synonym of type is deprecated; in a future version of numpy, it will be understood as (type, (1,)) / '(1,)type'.\n",
      "  _np_qint8 = np.dtype([(\"qint8\", np.int8, 1)])\n",
      "/home/bruno/anaconda3/lib/python3.7/site-packages/tensorflow/python/framework/dtypes.py:517: FutureWarning: Passing (type, 1) or '1type' as a synonym of type is deprecated; in a future version of numpy, it will be understood as (type, (1,)) / '(1,)type'.\n",
      "  _np_quint8 = np.dtype([(\"quint8\", np.uint8, 1)])\n",
      "/home/bruno/anaconda3/lib/python3.7/site-packages/tensorflow/python/framework/dtypes.py:518: FutureWarning: Passing (type, 1) or '1type' as a synonym of type is deprecated; in a future version of numpy, it will be understood as (type, (1,)) / '(1,)type'.\n",
      "  _np_qint16 = np.dtype([(\"qint16\", np.int16, 1)])\n",
      "/home/bruno/anaconda3/lib/python3.7/site-packages/tensorflow/python/framework/dtypes.py:519: FutureWarning: Passing (type, 1) or '1type' as a synonym of type is deprecated; in a future version of numpy, it will be understood as (type, (1,)) / '(1,)type'.\n",
      "  _np_quint16 = np.dtype([(\"quint16\", np.uint16, 1)])\n",
      "/home/bruno/anaconda3/lib/python3.7/site-packages/tensorflow/python/framework/dtypes.py:520: FutureWarning: Passing (type, 1) or '1type' as a synonym of type is deprecated; in a future version of numpy, it will be understood as (type, (1,)) / '(1,)type'.\n",
      "  _np_qint32 = np.dtype([(\"qint32\", np.int32, 1)])\n",
      "/home/bruno/anaconda3/lib/python3.7/site-packages/tensorflow/python/framework/dtypes.py:525: FutureWarning: Passing (type, 1) or '1type' as a synonym of type is deprecated; in a future version of numpy, it will be understood as (type, (1,)) / '(1,)type'.\n",
      "  np_resource = np.dtype([(\"resource\", np.ubyte, 1)])\n",
      "/home/bruno/anaconda3/lib/python3.7/site-packages/tensorboard/compat/tensorflow_stub/dtypes.py:541: FutureWarning: Passing (type, 1) or '1type' as a synonym of type is deprecated; in a future version of numpy, it will be understood as (type, (1,)) / '(1,)type'.\n",
      "  _np_qint8 = np.dtype([(\"qint8\", np.int8, 1)])\n",
      "/home/bruno/anaconda3/lib/python3.7/site-packages/tensorboard/compat/tensorflow_stub/dtypes.py:542: FutureWarning: Passing (type, 1) or '1type' as a synonym of type is deprecated; in a future version of numpy, it will be understood as (type, (1,)) / '(1,)type'.\n",
      "  _np_quint8 = np.dtype([(\"quint8\", np.uint8, 1)])\n",
      "/home/bruno/anaconda3/lib/python3.7/site-packages/tensorboard/compat/tensorflow_stub/dtypes.py:543: FutureWarning: Passing (type, 1) or '1type' as a synonym of type is deprecated; in a future version of numpy, it will be understood as (type, (1,)) / '(1,)type'.\n",
      "  _np_qint16 = np.dtype([(\"qint16\", np.int16, 1)])\n",
      "/home/bruno/anaconda3/lib/python3.7/site-packages/tensorboard/compat/tensorflow_stub/dtypes.py:544: FutureWarning: Passing (type, 1) or '1type' as a synonym of type is deprecated; in a future version of numpy, it will be understood as (type, (1,)) / '(1,)type'.\n",
      "  _np_quint16 = np.dtype([(\"quint16\", np.uint16, 1)])\n",
      "/home/bruno/anaconda3/lib/python3.7/site-packages/tensorboard/compat/tensorflow_stub/dtypes.py:545: FutureWarning: Passing (type, 1) or '1type' as a synonym of type is deprecated; in a future version of numpy, it will be understood as (type, (1,)) / '(1,)type'.\n",
      "  _np_qint32 = np.dtype([(\"qint32\", np.int32, 1)])\n",
      "/home/bruno/anaconda3/lib/python3.7/site-packages/tensorboard/compat/tensorflow_stub/dtypes.py:550: FutureWarning: Passing (type, 1) or '1type' as a synonym of type is deprecated; in a future version of numpy, it will be understood as (type, (1,)) / '(1,)type'.\n",
      "  np_resource = np.dtype([(\"resource\", np.ubyte, 1)])\n"
     ]
    }
   ],
   "source": [
    "from glob import glob\n",
    "import shutil\n",
    "import argparse\n",
    "import zipfile\n",
    "import hashlib\n",
    "import requests\n",
    "from tqdm import tqdm\n",
    "import IPython.display as display\n",
    "import matplotlib.pyplot as plt\n",
    "import numpy as np\n",
    "import tensorflow as tf\n",
    "import datetime, os\n",
    "from tensorflow.keras.layers import *\n",
    "from tensorflow.keras.callbacks import EarlyStopping, ModelCheckpoint\n",
    "from tensorflow.keras.optimizers import Adam\n",
    "from IPython.display import clear_output\n",
    "#import tensorflow_addons as tfa"
   ]
  },
  {
   "cell_type": "code",
   "execution_count": 2,
   "metadata": {},
   "outputs": [],
   "source": [
    "SEED = 42\n",
    "# some helper functions to download the dataset\n",
    "# this code comes mainly from gluoncv.utils\n",
    "def check_sha1(filename, sha1_hash):\n",
    "    \"\"\"Check whether the sha1 hash of the file content matches the expected hash.\n",
    "    Parameters\n",
    "    ----------\n",
    "    filename : str\n",
    "        Path to the file.\n",
    "    sha1_hash : str\n",
    "        Expected sha1 hash in hexadecimal digits.\n",
    "    Returns\n",
    "    -------\n",
    "    bool\n",
    "        Whether the file content matches the expected hash.\n",
    "    \"\"\"\n",
    "    sha1 = hashlib.sha1()\n",
    "    with open(filename, 'rb') as f:\n",
    "        while True:\n",
    "            data = f.read(1048576)\n",
    "            if not data:\n",
    "                break\n",
    "            sha1.update(data)\n",
    "\n",
    "    sha1_file = sha1.hexdigest()\n",
    "    l = min(len(sha1_file), len(sha1_hash))\n",
    "    return sha1.hexdigest()[0:l] == sha1_hash[0:l]\n",
    "\n",
    "def download(url, path=None, overwrite=False, sha1_hash=None):\n",
    "    \"\"\"Download an given URL\n",
    "    Parameters\n",
    "    ----------\n",
    "    url : str\n",
    "        URL to download\n",
    "    path : str, optional\n",
    "        Destination path to store downloaded file. By default stores to the\n",
    "        current directory with same name as in url.\n",
    "    overwrite : bool, optional\n",
    "        Whether to overwrite destination file if already exists.\n",
    "    sha1_hash : str, optional\n",
    "        Expected sha1 hash in hexadecimal digits. Will ignore existing file when hash is specified\n",
    "        but doesn't match.\n",
    "    Returns\n",
    "    -------\n",
    "    str\n",
    "        The file path of the downloaded file.\n",
    "    \"\"\"\n",
    "    if path is None:\n",
    "        fname = url.split('/')[-1]\n",
    "    else:\n",
    "        path = os.path.expanduser(path)\n",
    "        if os.path.isdir(path):\n",
    "            fname = os.path.join(path, url.split('/')[-1])\n",
    "        else:\n",
    "            fname = path\n",
    "\n",
    "    if overwrite or not os.path.exists(fname) or (sha1_hash and not check_sha1(fname, sha1_hash)):\n",
    "        dirname = os.path.dirname(os.path.abspath(os.path.expanduser(fname)))\n",
    "        if not os.path.exists(dirname):\n",
    "            os.makedirs(dirname)\n",
    "\n",
    "        print('Downloading %s from %s...'%(fname, url))\n",
    "        r = requests.get(url, stream=True)\n",
    "        if r.status_code != 200:\n",
    "            raise RuntimeError(\"Failed downloading url %s\"%url)\n",
    "        total_length = r.headers.get('content-length')\n",
    "        with open(fname, 'wb') as f:\n",
    "            if total_length is None: # no content length header\n",
    "                for chunk in r.iter_content(chunk_size=1024):\n",
    "                    if chunk: # filter out keep-alive new chunks\n",
    "                        f.write(chunk)\n",
    "            else:\n",
    "                total_length = int(total_length)\n",
    "                for chunk in tqdm(r.iter_content(chunk_size=1024),\n",
    "                                  total=int(total_length / 1024. + 0.5),\n",
    "                                  unit='KB', unit_scale=False, dynamic_ncols=True):\n",
    "                    f.write(chunk)\n",
    "\n",
    "        if sha1_hash and not check_sha1(fname, sha1_hash):\n",
    "            raise UserWarning('File {} is downloaded but the content hash does not match. ' \\\n",
    "                              'The repo may be outdated or download may be incomplete. ' \\\n",
    "                              'If the \"repo_url\" is overridden, consider switching to ' \\\n",
    "                              'the default repo.'.format(fname))\n",
    "\n",
    "    return fname\n",
    "\n",
    "def download_ade(path, overwrite=False):\n",
    "\n",
    "    \"\"\"Download ADE20K\n",
    "    Parameters\n",
    "    ----------\n",
    "    path : str\n",
    "      Location of the downloaded files.\n",
    "    overwrite : bool, optional\n",
    "      Whether to overwrite destination file if already exists.\n",
    "    \"\"\"\n",
    "    if not os.path.exists(path):\n",
    "        os.mkdir(path)\n",
    "    _AUG_DOWNLOAD_URLS = [\n",
    "      ('http://data.csail.mit.edu/places/ADEchallenge/ADEChallengeData2016.zip', '219e1696abb36c8ba3a3afe7fb2f4b4606a897c7'),\n",
    "      ('http://data.csail.mit.edu/places/ADEchallenge/release_test.zip', 'e05747892219d10e9243933371a497e905a4860c'),]\n",
    "    download_dir = os.path.join(path, 'downloads')\n",
    "    if not os.path.exists(download_dir):\n",
    "        os.mkdir(download_dir)\n",
    "    for url, checksum in _AUG_DOWNLOAD_URLS:\n",
    "        filename = download(url, path=download_dir, overwrite=overwrite, sha1_hash=checksum)\n",
    "        # extract\n",
    "        with zipfile.ZipFile(filename,\"r\") as zip_ref:\n",
    "            zip_ref.extractall(path=path)"
   ]
  },
  {
   "cell_type": "code",
   "execution_count": 3,
   "metadata": {},
   "outputs": [],
   "source": [
    "dataset_path =  \"ADEChallengeData2016/images/\"\n",
    "training_data = \"training/\"\n",
    "val_data = \"validation/\""
   ]
  },
  {
   "cell_type": "code",
   "execution_count": 4,
   "metadata": {},
   "outputs": [
    {
     "name": "stdout",
     "output_type": "stream",
     "text": [
      "Downloading data/downloads/ADEChallengeData2016.zip from http://data.csail.mit.edu/places/ADEchallenge/ADEChallengeData2016.zip...\n"
     ]
    },
    {
     "name": "stderr",
     "output_type": "stream",
     "text": [
      "944710KB [1:45:56, 148.63KB/s]                              \n"
     ]
    },
    {
     "name": "stdout",
     "output_type": "stream",
     "text": [
      "Downloading data/downloads/release_test.zip from http://data.csail.mit.edu/places/ADEchallenge/release_test.zip...\n"
     ]
    },
    {
     "name": "stderr",
     "output_type": "stream",
     "text": [
      "100%|██████████| 206856/206856 [19:49<00:00, 173.83KB/s]\n"
     ]
    }
   ],
   "source": [
    "download_ade(\"data\", overwrite=False)"
   ]
  },
  {
   "cell_type": "code",
   "execution_count": null,
   "metadata": {},
   "outputs": [],
   "source": []
  }
 ],
 "metadata": {
  "kernelspec": {
   "display_name": "Python 3",
   "language": "python",
   "name": "python3"
  },
  "language_info": {
   "codemirror_mode": {
    "name": "ipython",
    "version": 3
   },
   "file_extension": ".py",
   "mimetype": "text/x-python",
   "name": "python",
   "nbconvert_exporter": "python",
   "pygments_lexer": "ipython3",
   "version": "3.7.7"
  }
 },
 "nbformat": 4,
 "nbformat_minor": 4
}
